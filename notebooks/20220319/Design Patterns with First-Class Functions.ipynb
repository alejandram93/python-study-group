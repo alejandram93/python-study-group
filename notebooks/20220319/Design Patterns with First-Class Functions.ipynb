{
 "cells": [
  {
   "cell_type": "markdown",
   "metadata": {
    "id": "fV1GLLVXdBSq"
   },
   "source": [
    "###### References: \n",
    "- https://docs.python.org/3/library/functions.html   \n",
    "- Fluent Python by Luciano Ramalho. Chapter 6: Design Patterns with First-Class Functions\n",
    "\n",
    "# Strategy pattern\n",
    "    Classic pattern : Define a family of algorithms, encapsulate each one, and make them interchangeable. Strategy lets the algorithm vary independently from clients that use it.\n",
    "    \n",
    "![strategy](strategy.png)\n",
    "\n",
    "### Context\n",
    "Provides a service by delegating some computation to interchangeable components that implement alternative algorithms. \n",
    "### Strategy\n",
    "The interface common to the components that implement the different algorithms. \n",
    "### Concrete Strategy\n",
    "One of the concrete subclassses of Strategy."
   ]
  },
  {
   "cell_type": "code",
   "execution_count": 1,
   "metadata": {},
   "outputs": [],
   "source": [
    "from abc import ABC, abstractmethod\n",
    "from collections import namedtuple"
   ]
  },
  {
   "cell_type": "code",
   "execution_count": 2,
   "metadata": {},
   "outputs": [],
   "source": [
    "Customer = namedtuple('Customer', 'name fidelity')\n",
    "\n",
    "\n",
    "class LineItem:\n",
    "\n",
    "    def __init__(self, product, quantity, price):\n",
    "        self.product = product\n",
    "        self.quantity = quantity\n",
    "        self.price = price\n",
    "\n",
    "    def total(self):\n",
    "        return self.price * self.quantity\n",
    "\n",
    "\n",
    "class Order:  # the Context\n",
    "\n",
    "    def __init__(self, customer, cart, promotion=None):\n",
    "        self.customer = customer\n",
    "        self.cart = list(cart)\n",
    "        self.promotion = promotion\n",
    "\n",
    "    def total(self):\n",
    "        if not hasattr(self, '__total'):\n",
    "            self.__total = sum(item.total() for item in self.cart)\n",
    "        return self.__total\n",
    "\n",
    "    def due(self):\n",
    "        if self.promotion is None:\n",
    "            discount = 0\n",
    "        else:\n",
    "            discount = self.promotion.discount(self)\n",
    "        return self.total() - discount\n",
    "\n",
    "    def __repr__(self):\n",
    "        fmt = '<Order total: {:.2f} due: {:.2f}>'\n",
    "        return fmt.format(self.total(), self.due())\n",
    "\n",
    "\n",
    "class Promotion(ABC):  # the Strategy: an Abstract Base Class\n",
    "\n",
    "    @abstractmethod\n",
    "    def discount(self, order):\n",
    "        \"\"\"Return discount as a positive dollar amount\"\"\"\n",
    "\n",
    "\n",
    "class FidelityPromo(Promotion):  # first Concrete Strategy\n",
    "    \"\"\"5% discount for customers with 1000 or more fidelity points\"\"\"\n",
    "\n",
    "    def discount(self, order):\n",
    "        return order.total() * .05 if order.customer.fidelity >= 1000 else 0\n",
    "\n",
    "\n",
    "class BulkItemPromo(Promotion):  # second Concrete Strategy\n",
    "    \"\"\"10% discount for each LineItem with 20 or more units\"\"\"\n",
    "\n",
    "    def discount(self, order):\n",
    "        discount = 0\n",
    "        for item in order.cart:\n",
    "            if item.quantity >= 20:\n",
    "                discount += item.total() * .1\n",
    "        return discount\n",
    "\n",
    "\n",
    "class LargeOrderPromo(Promotion):  # third Concrete Strategy\n",
    "    \"\"\"7% discount for orders with 10 or more distinct items\"\"\"\n",
    "\n",
    "    def discount(self, order):\n",
    "        distinct_items = {item.product for item in order.cart}\n",
    "        if len(distinct_items) >= 10:\n",
    "            return order.total() * .07\n",
    "        return 0"
   ]
  },
  {
   "cell_type": "code",
   "execution_count": 3,
   "metadata": {},
   "outputs": [],
   "source": [
    "joe = Customer('John Doe', 0)  \n",
    "ann = Customer('Ann Smith', 1100)\n",
    "cart = [LineItem('banana', 4, .5), \n",
    "        LineItem('apple', 10, 1.5),\n",
    "        LineItem('watermellon', 5, 5.0)]"
   ]
  },
  {
   "cell_type": "code",
   "execution_count": 4,
   "metadata": {},
   "outputs": [
    {
     "data": {
      "text/plain": [
       "<Order total: 42.00 due: 42.00>"
      ]
     },
     "execution_count": 4,
     "metadata": {},
     "output_type": "execute_result"
    }
   ],
   "source": [
    "Order(joe, cart, FidelityPromo() )"
   ]
  },
  {
   "cell_type": "code",
   "execution_count": 5,
   "metadata": {},
   "outputs": [
    {
     "data": {
      "text/plain": [
       "<Order total: 42.00 due: 39.90>"
      ]
     },
     "execution_count": 5,
     "metadata": {},
     "output_type": "execute_result"
    }
   ],
   "source": [
    "Order(ann, cart, FidelityPromo())"
   ]
  },
  {
   "cell_type": "code",
   "execution_count": 6,
   "metadata": {},
   "outputs": [],
   "source": [
    "banana_cart = [LineItem('banana', 30, .5),\n",
    "               LineItem('apple', 10, 1.5)]"
   ]
  },
  {
   "cell_type": "code",
   "execution_count": 7,
   "metadata": {},
   "outputs": [
    {
     "data": {
      "text/plain": [
       "<Order total: 30.00 due: 28.50>"
      ]
     },
     "execution_count": 7,
     "metadata": {},
     "output_type": "execute_result"
    }
   ],
   "source": [
    "Order(joe, banana_cart, BulkItemPromo())"
   ]
  },
  {
   "cell_type": "code",
   "execution_count": 8,
   "metadata": {},
   "outputs": [],
   "source": [
    "long_order = [LineItem(str(item_code), 1, 1.0)\n",
    "              for item_code in range(10)]"
   ]
  },
  {
   "cell_type": "code",
   "execution_count": 9,
   "metadata": {},
   "outputs": [
    {
     "data": {
      "text/plain": [
       "<Order total: 10.00 due: 9.30>"
      ]
     },
     "execution_count": 9,
     "metadata": {},
     "output_type": "execute_result"
    }
   ],
   "source": [
    "Order(joe, long_order, LargeOrderPromo())"
   ]
  },
  {
   "cell_type": "code",
   "execution_count": 10,
   "metadata": {},
   "outputs": [
    {
     "data": {
      "text/plain": [
       "<Order total: 42.00 due: 42.00>"
      ]
     },
     "execution_count": 10,
     "metadata": {},
     "output_type": "execute_result"
    }
   ],
   "source": [
    "Order(joe, cart, LargeOrderPromo())"
   ]
  },
  {
   "cell_type": "markdown",
   "metadata": {},
   "source": [
    "The classic example above shows:\n",
    "- Each concrete strategy as a class with a single method, `discount`. \n",
    "- The strategy instances have no state\n",
    "\n",
    "## Function-Oriented Strategy\n"
   ]
  },
  {
   "cell_type": "code",
   "execution_count": 11,
   "metadata": {},
   "outputs": [],
   "source": [
    "from collections import namedtuple"
   ]
  },
  {
   "cell_type": "code",
   "execution_count": 12,
   "metadata": {},
   "outputs": [],
   "source": [
    "Customer = namedtuple('Customer', 'name fidelity')\n",
    "\n",
    "\n",
    "class LineItem:\n",
    "\n",
    "    def __init__(self, product, quantity, price):\n",
    "        self.product = product\n",
    "        self.quantity = quantity\n",
    "        self.price = price\n",
    "\n",
    "    def total(self):\n",
    "        return self.price * self.quantity\n",
    "\n",
    "\n",
    "class Order:  # the Context\n",
    "\n",
    "    def __init__(self, customer, cart, promotion=None):\n",
    "        self.customer = customer\n",
    "        self.cart = list(cart)\n",
    "        self.promotion = promotion\n",
    "\n",
    "    def total(self):\n",
    "        if not hasattr(self, '__total'):\n",
    "            self.__total = sum(item.total() for item in self.cart)\n",
    "        return self.__total\n",
    "\n",
    "    def due(self):\n",
    "        if self.promotion is None:\n",
    "            discount = 0\n",
    "        else:\n",
    "            discount = self.promotion(self)  # To compute discount\n",
    "        return self.total() - discount\n",
    "\n",
    "    def __repr__(self):\n",
    "        fmt = '<Order total: {:.2f} due: {:.2f}>'\n",
    "        return fmt.format(self.total(), self.due())\n",
    "\n",
    "# No abstract class\n",
    "\n",
    "def fidelity_promo(order):  # Each strategy is a function\n",
    "    \"\"\"5% discount for customers with 1000 or more fidelity points\"\"\"\n",
    "    return order.total() * .05 if order.customer.fidelity >= 1000 else 0\n",
    "\n",
    "\n",
    "def bulk_item_promo(order):\n",
    "    \"\"\"10% discount for each LineItem with 20 or more units\"\"\"\n",
    "    discount = 0\n",
    "    for item in order.cart:\n",
    "        if item.quantity >= 20:\n",
    "            discount += item.total() * .1\n",
    "    return discount\n",
    "\n",
    "\n",
    "def large_order_promo(order):\n",
    "    \"\"\"7% discount for orders with 10 or more distinct items\"\"\"\n",
    "    distinct_items = {item.product for item in order.cart}\n",
    "    if len(distinct_items) >= 10:\n",
    "        return order.total() * .07\n",
    "    return 0"
   ]
  },
  {
   "cell_type": "markdown",
   "metadata": {},
   "source": [
    "### Tests"
   ]
  },
  {
   "cell_type": "code",
   "execution_count": 13,
   "metadata": {},
   "outputs": [
    {
     "data": {
      "text/plain": [
       "<Order total: 42.00 due: 42.00>"
      ]
     },
     "execution_count": 13,
     "metadata": {},
     "output_type": "execute_result"
    }
   ],
   "source": [
    "Order(joe, cart, fidelity_promo)"
   ]
  },
  {
   "cell_type": "code",
   "execution_count": 14,
   "metadata": {},
   "outputs": [
    {
     "data": {
      "text/plain": [
       "<Order total: 42.00 due: 39.90>"
      ]
     },
     "execution_count": 14,
     "metadata": {},
     "output_type": "execute_result"
    }
   ],
   "source": [
    "Order(ann, cart, fidelity_promo)"
   ]
  },
  {
   "cell_type": "code",
   "execution_count": 15,
   "metadata": {},
   "outputs": [
    {
     "data": {
      "text/plain": [
       "<Order total: 30.00 due: 28.50>"
      ]
     },
     "execution_count": 15,
     "metadata": {},
     "output_type": "execute_result"
    }
   ],
   "source": [
    "Order(joe, banana_cart, bulk_item_promo)"
   ]
  },
  {
   "cell_type": "code",
   "execution_count": 16,
   "metadata": {},
   "outputs": [
    {
     "data": {
      "text/plain": [
       "<Order total: 10.00 due: 9.30>"
      ]
     },
     "execution_count": 16,
     "metadata": {},
     "output_type": "execute_result"
    }
   ],
   "source": [
    "Order(joe, long_order, large_order_promo)"
   ]
  },
  {
   "cell_type": "code",
   "execution_count": 17,
   "metadata": {},
   "outputs": [
    {
     "data": {
      "text/plain": [
       "<Order total: 42.00 due: 42.00>"
      ]
     },
     "execution_count": 17,
     "metadata": {},
     "output_type": "execute_result"
    }
   ],
   "source": [
    "Order(joe, cart, large_order_promo)"
   ]
  },
  {
   "cell_type": "markdown",
   "metadata": {},
   "source": [
    "`Strategy objects often make good flyweights.`\n",
    "\n",
    "A flyweight is a shared object that can be used in multiple contexts simultaneously.\n",
    "\n",
    "### selecting the best available discount:"
   ]
  },
  {
   "cell_type": "code",
   "execution_count": 18,
   "metadata": {},
   "outputs": [],
   "source": [
    "promos = [fidelity_promo, bulk_item_promo, large_order_promo]  # lists of strategies\n",
    "\n",
    "def best_promo(order):  # takes an instance of Order, same as promos\n",
    "    \"\"\"Select best discount available\n",
    "    \"\"\"\n",
    "    return max(promo(order) for promo in promos)  # Using generator expression"
   ]
  },
  {
   "cell_type": "code",
   "execution_count": 19,
   "metadata": {},
   "outputs": [
    {
     "data": {
      "text/plain": [
       "<Order total: 10.00 due: 9.30>"
      ]
     },
     "execution_count": 19,
     "metadata": {},
     "output_type": "execute_result"
    }
   ],
   "source": [
    "Order(joe, long_order, best_promo)"
   ]
  },
  {
   "cell_type": "code",
   "execution_count": 20,
   "metadata": {},
   "outputs": [
    {
     "data": {
      "text/plain": [
       "<Order total: 30.00 due: 28.50>"
      ]
     },
     "execution_count": 20,
     "metadata": {},
     "output_type": "execute_result"
    }
   ],
   "source": [
    "Order(joe, banana_cart, best_promo)"
   ]
  },
  {
   "cell_type": "code",
   "execution_count": 21,
   "metadata": {},
   "outputs": [
    {
     "data": {
      "text/plain": [
       "<Order total: 42.00 due: 39.90>"
      ]
     },
     "execution_count": 21,
     "metadata": {},
     "output_type": "execute_result"
    }
   ],
   "source": [
    "Order(ann, cart, best_promo)"
   ]
  },
  {
   "cell_type": "markdown",
   "metadata": {},
   "source": [
    "### Problem\n",
    "To add a new promotion strategy, we need to:\n",
    "- code the function\n",
    "- add it to the `promos` list\n",
    "\n",
    "## Finding Strategies in a Module\n",
    "`global()` Return the dictionary implementing the current module namespace. For code within functions, this is set when the function is defined and remains the same regardless of where the function is called."
   ]
  },
  {
   "cell_type": "code",
   "execution_count": 22,
   "metadata": {},
   "outputs": [],
   "source": [
    "promos = [globals()[name] for name in globals()  # Iterate over each name in the dict\n",
    "            if name.endswith('_promo')\n",
    "            and name != 'best_promo'] # Filter out best_promo to avoid infinite recursion"
   ]
  },
  {
   "cell_type": "markdown",
   "metadata": {},
   "source": [
    "Create a module and put all the strategy functions there. I.e. `promotions.py`"
   ]
  },
  {
   "cell_type": "code",
   "execution_count": 23,
   "metadata": {
    "scrolled": true
   },
   "outputs": [],
   "source": [
    "import inspect\n",
    "\n",
    "import promotions"
   ]
  },
  {
   "cell_type": "code",
   "execution_count": 24,
   "metadata": {},
   "outputs": [],
   "source": [
    "promos = [func for name, func in\n",
    "                inspect.getmembers(promotions, inspect.isfunction)]"
   ]
  },
  {
   "cell_type": "markdown",
   "metadata": {},
   "source": [
    "# Command Pattern\n",
    "![command](command.png)\n",
    "\n",
    "To decouple an object that invokes an operation (the Invoker) from the provider object that implements it (the Reciever).\n",
    "\n",
    "I.e. put a `Command` object between two objects. Implementing an interface with a single method, `execute`.\n",
    "\n",
    "`\"Commands are an object-oriented replacement for callbacks.\"`"
   ]
  },
  {
   "cell_type": "code",
   "execution_count": 25,
   "metadata": {},
   "outputs": [],
   "source": [
    "class MacroCommand:\n",
    "    \"\"\"A command that executes a list of commands\"\"\"\n",
    "    def __init__(self, commands):\n",
    "        self.commands = list(commands)\n",
    "    \n",
    "    def __call__(self):\n",
    "        for command in self.commands:\n",
    "            command()"
   ]
  },
  {
   "cell_type": "markdown",
   "metadata": {},
   "source": [
    "#### Ref: \n",
    "\"Recipe 8.21. Implementing the Visitor Pattern,\" in the _Python Cookbook, 3rd Edition_ by David Beazley and Brian K. Jones\n",
    "\n",
    "_Learning Python Design Pattern_ by Gennaidiy Zlobin\n",
    "\n",
    "\"Useful Design Patterns,\" in _Expert Python Programming_ by Tarek Ziade"
   ]
  },
  {
   "cell_type": "code",
   "execution_count": null,
   "metadata": {},
   "outputs": [],
   "source": []
  }
 ],
 "metadata": {
  "colab": {
   "name": "20220205 Dictionaries and Sets.ipynb",
   "provenance": []
  },
  "kernelspec": {
   "display_name": "Python 3",
   "language": "python",
   "name": "python3"
  },
  "language_info": {
   "codemirror_mode": {
    "name": "ipython",
    "version": 3
   },
   "file_extension": ".py",
   "mimetype": "text/x-python",
   "name": "python",
   "nbconvert_exporter": "python",
   "pygments_lexer": "ipython3",
   "version": "3.8.8"
  }
 },
 "nbformat": 4,
 "nbformat_minor": 1
}
