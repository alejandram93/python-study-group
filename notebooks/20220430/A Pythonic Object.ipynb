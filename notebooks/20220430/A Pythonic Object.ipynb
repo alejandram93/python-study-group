{
 "cells": [
  {
   "cell_type": "markdown",
   "id": "0ece9398",
   "metadata": {},
   "source": [
    "###### References:  \n",
    "- https://docs.python.org/3/reference/datamodel.html\n",
    "- Fluent Python by Luciano Ramalho. Chapter 9: A Pythonic Object\n",
    "    \n",
    "# Object Representations\n",
    "\n",
    "`repr()` Return a string representing the object as the developer wants to see it.\n",
    "\n",
    "`str()` Return a string reprenting the object as the user wants to see it.\n",
    "\n",
    "## Verctor Class Redux\n"
   ]
  },
  {
   "cell_type": "code",
   "execution_count": 1,
   "id": "664bab98",
   "metadata": {},
   "outputs": [],
   "source": [
    "from array import array\n",
    "import math"
   ]
  },
  {
   "cell_type": "code",
   "execution_count": 2,
   "id": "c93f7282",
   "metadata": {},
   "outputs": [],
   "source": [
    "class Vector2d:\n",
    "    typecode = 'd'  # used when converting instances to/from bytes\n",
    "\n",
    "    def __init__(self, x, y):\n",
    "        self.x = float(x)    # converting to float to avoid/catch errors early\n",
    "        self.y = float(y)\n",
    "\n",
    "    def __iter__(self):\n",
    "        return (i for i in (self.x, self.y))  # makes the object iterable, and make unpacking works; by using genexp\n",
    "\n",
    "    def __repr__(self):\n",
    "        class_name = type(self).__name__\n",
    "        return '{}({!r}, {!r})'.format(class_name, *self)  # interpolates the components with {!r}\n",
    "\n",
    "    def __str__(self):\n",
    "        return str(tuple(self))  # build a tuple for display\n",
    "\n",
    "    def __bytes__(self):\n",
    "        return (bytes([ord(self.typecode)]) +\n",
    "                bytes(array(self.typecode, self)))  # convert from an array\n",
    "\n",
    "    def __eq__(self, other):\n",
    "        return tuple(self) == tuple(other)  # this works, but also returns true with other iterables with same numeric values\n",
    "\n",
    "    def __abs__(self):\n",
    "        return math.hypot(self.x, self.y)  # The magnitude is the length of the hypotenuse of the triangle formed\n",
    "\n",
    "    def __bool__(self):\n",
    "        return bool(abs(self))  # uses the magnitude and converts it to bool."
   ]
  },
  {
   "cell_type": "code",
   "execution_count": 3,
   "id": "909c4842",
   "metadata": {},
   "outputs": [
    {
     "name": "stdout",
     "output_type": "stream",
     "text": [
      "3.0 4.0\n"
     ]
    }
   ],
   "source": [
    "v1 = Vector2d(3, 4)\n",
    "\n",
    "# the components can be accessed directly as attributes\n",
    "print(v1.x, v1.y)"
   ]
  },
  {
   "cell_type": "code",
   "execution_count": 4,
   "id": "ccd3fcc3",
   "metadata": {},
   "outputs": [
    {
     "data": {
      "text/plain": [
       "(3.0, 4.0)"
      ]
     },
     "execution_count": 4,
     "metadata": {},
     "output_type": "execute_result"
    }
   ],
   "source": [
    "x, y = v1\n",
    "x, y"
   ]
  },
  {
   "cell_type": "code",
   "execution_count": 5,
   "id": "3e0ae4b6",
   "metadata": {},
   "outputs": [
    {
     "data": {
      "text/plain": [
       "Vector2d(3.0, 4.0)"
      ]
     },
     "execution_count": 5,
     "metadata": {},
     "output_type": "execute_result"
    }
   ],
   "source": [
    "v1"
   ]
  },
  {
   "cell_type": "code",
   "execution_count": 6,
   "id": "87e37d46",
   "metadata": {},
   "outputs": [
    {
     "data": {
      "text/plain": [
       "True"
      ]
     },
     "execution_count": 6,
     "metadata": {},
     "output_type": "execute_result"
    }
   ],
   "source": [
    "v1_clone = eval(repr(v1))\n",
    "v1 == v1_clone"
   ]
  },
  {
   "cell_type": "code",
   "execution_count": 7,
   "id": "c49f57b5",
   "metadata": {},
   "outputs": [
    {
     "name": "stdout",
     "output_type": "stream",
     "text": [
      "(3.0, 4.0)\n"
     ]
    }
   ],
   "source": [
    "print(v1)"
   ]
  },
  {
   "cell_type": "code",
   "execution_count": 8,
   "id": "5ae27bdf",
   "metadata": {},
   "outputs": [
    {
     "data": {
      "text/plain": [
       "b'd\\x00\\x00\\x00\\x00\\x00\\x00\\x08@\\x00\\x00\\x00\\x00\\x00\\x00\\x10@'"
      ]
     },
     "execution_count": 8,
     "metadata": {},
     "output_type": "execute_result"
    }
   ],
   "source": [
    "octets = bytes(v1)\n",
    "octets"
   ]
  },
  {
   "cell_type": "code",
   "execution_count": 9,
   "id": "d7914bee",
   "metadata": {},
   "outputs": [
    {
     "data": {
      "text/plain": [
       "5.0"
      ]
     },
     "execution_count": 9,
     "metadata": {},
     "output_type": "execute_result"
    }
   ],
   "source": [
    "abs(v1)"
   ]
  },
  {
   "cell_type": "code",
   "execution_count": 10,
   "id": "61ce8e68",
   "metadata": {},
   "outputs": [
    {
     "data": {
      "text/plain": [
       "(True, False)"
      ]
     },
     "execution_count": 10,
     "metadata": {},
     "output_type": "execute_result"
    }
   ],
   "source": [
    "bool(v1), bool(Vector2d(0, 0))"
   ]
  },
  {
   "cell_type": "markdown",
   "id": "472cbed8",
   "metadata": {},
   "source": [
    "# An Alternative Constructor\n",
    "\n",
    "Because we export a `Vector2d` as bytes, we need a method that imports a `Vector2d` from a binary sequence."
   ]
  },
  {
   "cell_type": "code",
   "execution_count": 11,
   "id": "58a88372",
   "metadata": {},
   "outputs": [],
   "source": [
    "class Vector2d:\n",
    "    typecode = 'd'\n",
    "\n",
    "    def __init__(self, x, y):\n",
    "        self.x = float(x)\n",
    "        self.y = float(y)\n",
    "\n",
    "    def __iter__(self):\n",
    "        return (i for i in (self.x, self.y))\n",
    "\n",
    "    def __repr__(self):\n",
    "        class_name = type(self).__name__\n",
    "        return '{}({!r}, {!r})'.format(class_name, *self)\n",
    "\n",
    "    def __str__(self):\n",
    "        return str(tuple(self))\n",
    "\n",
    "    def __bytes__(self):\n",
    "        return (bytes([ord(self.typecode)]) +\n",
    "                bytes(array(self.typecode, self)))\n",
    "\n",
    "    def __eq__(self, other):\n",
    "        return tuple(self) == tuple(other)\n",
    "\n",
    "    def __abs__(self):\n",
    "        return math.hypot(self.x, self.y)\n",
    "\n",
    "    def __bool__(self):\n",
    "        return bool(abs(self))\n",
    "\n",
    "\n",
    "    @classmethod  \n",
    "    def frombytes(cls, octets):  # no `self`, the class itself is passed as `cls`\n",
    "        typecode = chr(octets[0])  # read typecode from the first byte\n",
    "        memv = memoryview(octets[1:]).cast(typecode)\n",
    "        return cls(*memv)  # unpack, invoke `cls` to build a new instance"
   ]
  },
  {
   "cell_type": "code",
   "execution_count": 12,
   "id": "d97d8681",
   "metadata": {},
   "outputs": [
    {
     "data": {
      "text/plain": [
       "Vector2d(3.0, 4.0)"
      ]
     },
     "execution_count": 12,
     "metadata": {},
     "output_type": "execute_result"
    }
   ],
   "source": [
    "v1_clone = Vector2d.frombytes(bytes(v1))\n",
    "v1_clone"
   ]
  },
  {
   "cell_type": "code",
   "execution_count": 13,
   "id": "24fb2d8e",
   "metadata": {},
   "outputs": [
    {
     "data": {
      "text/plain": [
       "True"
      ]
     },
     "execution_count": 13,
     "metadata": {},
     "output_type": "execute_result"
    }
   ],
   "source": [
    "v1 == v1_clone"
   ]
  },
  {
   "cell_type": "markdown",
   "id": "42a790c5",
   "metadata": {},
   "source": [
    "# `classmethod` Versus `staticmethod`\n",
    "`classmethod` define a method that operates on the class and not on instances\n",
    "\n",
    "`staticmethod` changes a method so that it receives no special first argument."
   ]
  },
  {
   "cell_type": "code",
   "execution_count": 14,
   "id": "7a088271",
   "metadata": {},
   "outputs": [],
   "source": [
    "class Demo:\n",
    "    @classmethod  \n",
    "    def klassmethod(*args):\n",
    "        return args\n",
    "    \n",
    "    @staticmethod\n",
    "    def statmeth(*args):\n",
    "        return args"
   ]
  },
  {
   "cell_type": "code",
   "execution_count": 15,
   "id": "f20cf6e1",
   "metadata": {},
   "outputs": [
    {
     "data": {
      "text/plain": [
       "(__main__.Demo,)"
      ]
     },
     "execution_count": 15,
     "metadata": {},
     "output_type": "execute_result"
    }
   ],
   "source": [
    "Demo.klassmethod()"
   ]
  },
  {
   "cell_type": "code",
   "execution_count": 16,
   "id": "96195464",
   "metadata": {},
   "outputs": [
    {
     "data": {
      "text/plain": [
       "(__main__.Demo, 'spam')"
      ]
     },
     "execution_count": 16,
     "metadata": {},
     "output_type": "execute_result"
    }
   ],
   "source": [
    "Demo.klassmethod('spam')"
   ]
  },
  {
   "cell_type": "code",
   "execution_count": 17,
   "id": "6e5d1e9d",
   "metadata": {},
   "outputs": [
    {
     "data": {
      "text/plain": [
       "()"
      ]
     },
     "execution_count": 17,
     "metadata": {},
     "output_type": "execute_result"
    }
   ],
   "source": [
    "Demo.statmeth()"
   ]
  },
  {
   "cell_type": "code",
   "execution_count": 18,
   "id": "931c29cd",
   "metadata": {},
   "outputs": [
    {
     "data": {
      "text/plain": [
       "('spam',)"
      ]
     },
     "execution_count": 18,
     "metadata": {},
     "output_type": "execute_result"
    }
   ],
   "source": [
    "Demo.statmeth('spam')"
   ]
  },
  {
   "cell_type": "markdown",
   "id": "bcdd4e8f",
   "metadata": {},
   "source": [
    "# Formatted Displays\n",
    "the format specifier"
   ]
  },
  {
   "cell_type": "code",
   "execution_count": 19,
   "id": "92429595",
   "metadata": {},
   "outputs": [
    {
     "data": {
      "text/plain": [
       "0.3125"
      ]
     },
     "execution_count": 19,
     "metadata": {},
     "output_type": "execute_result"
    }
   ],
   "source": [
    "# MYR to SGD currency conversino rate\n",
    "myr = 1/3.2\n",
    "myr"
   ]
  },
  {
   "cell_type": "code",
   "execution_count": 20,
   "id": "fa106779",
   "metadata": {},
   "outputs": [
    {
     "data": {
      "text/plain": [
       "'0.3125'"
      ]
     },
     "execution_count": 20,
     "metadata": {},
     "output_type": "execute_result"
    }
   ],
   "source": [
    "format(myr, '0.4f')"
   ]
  },
  {
   "cell_type": "code",
   "execution_count": 21,
   "id": "079260a9",
   "metadata": {},
   "outputs": [
    {
     "data": {
      "text/plain": [
       "'1 MYR = 0.31 SGD'"
      ]
     },
     "execution_count": 21,
     "metadata": {},
     "output_type": "execute_result"
    }
   ],
   "source": [
    "'1 MYR = {rate:0.2f} SGD'.format(rate=myr)"
   ]
  },
  {
   "cell_type": "code",
   "execution_count": 22,
   "id": "6f5757d7",
   "metadata": {},
   "outputs": [
    {
     "data": {
      "text/plain": [
       "'101010'"
      ]
     },
     "execution_count": 22,
     "metadata": {},
     "output_type": "execute_result"
    }
   ],
   "source": [
    "format(42, 'b')"
   ]
  },
  {
   "cell_type": "code",
   "execution_count": 23,
   "id": "7808b8bd",
   "metadata": {},
   "outputs": [
    {
     "data": {
      "text/plain": [
       "'2a'"
      ]
     },
     "execution_count": 23,
     "metadata": {},
     "output_type": "execute_result"
    }
   ],
   "source": [
    "format(42, 'x')"
   ]
  },
  {
   "cell_type": "code",
   "execution_count": 24,
   "id": "305b7c84",
   "metadata": {},
   "outputs": [
    {
     "data": {
      "text/plain": [
       "'2A'"
      ]
     },
     "execution_count": 24,
     "metadata": {},
     "output_type": "execute_result"
    }
   ],
   "source": [
    "format(42, 'X')"
   ]
  },
  {
   "cell_type": "code",
   "execution_count": 25,
   "id": "4a3ef42b",
   "metadata": {},
   "outputs": [
    {
     "data": {
      "text/plain": [
       "'66.7%'"
      ]
     },
     "execution_count": 25,
     "metadata": {},
     "output_type": "execute_result"
    }
   ],
   "source": [
    "format(2/3, '.1%')"
   ]
  },
  {
   "cell_type": "code",
   "execution_count": 26,
   "id": "9ba41478",
   "metadata": {},
   "outputs": [],
   "source": [
    "from datetime import datetime"
   ]
  },
  {
   "cell_type": "code",
   "execution_count": 27,
   "id": "2489ff86",
   "metadata": {},
   "outputs": [
    {
     "data": {
      "text/plain": [
       "'14:23:29'"
      ]
     },
     "execution_count": 27,
     "metadata": {},
     "output_type": "execute_result"
    }
   ],
   "source": [
    "now = datetime.now()\n",
    "format(now, '%H:%M:%S')"
   ]
  },
  {
   "cell_type": "code",
   "execution_count": 28,
   "id": "2d56a2c8",
   "metadata": {},
   "outputs": [
    {
     "data": {
      "text/plain": [
       "\"It's now 02:23 PM\""
      ]
     },
     "execution_count": 28,
     "metadata": {},
     "output_type": "execute_result"
    }
   ],
   "source": [
    "\"It's now {:%I:%M %p}\".format(now)"
   ]
  },
  {
   "cell_type": "markdown",
   "id": "4262f6eb",
   "metadata": {},
   "source": [
    "`__format__` inherits `str(object)` if not specifited:"
   ]
  },
  {
   "cell_type": "code",
   "execution_count": 29,
   "id": "de21075c",
   "metadata": {},
   "outputs": [
    {
     "data": {
      "text/plain": [
       "'(3.0, 4.0)'"
      ]
     },
     "execution_count": 29,
     "metadata": {},
     "output_type": "execute_result"
    }
   ],
   "source": [
    "format(v1)"
   ]
  },
  {
   "cell_type": "code",
   "execution_count": 30,
   "id": "2df49a23",
   "metadata": {},
   "outputs": [
    {
     "ename": "TypeError",
     "evalue": "unsupported format string passed to Vector2d.__format__",
     "output_type": "error",
     "traceback": [
      "\u001b[1;31m---------------------------------------------------------------------------\u001b[0m",
      "\u001b[1;31mTypeError\u001b[0m                                 Traceback (most recent call last)",
      "\u001b[1;32m<ipython-input-30-9f7764dc3848>\u001b[0m in \u001b[0;36m<module>\u001b[1;34m\u001b[0m\n\u001b[1;32m----> 1\u001b[1;33m \u001b[0mformat\u001b[0m\u001b[1;33m(\u001b[0m\u001b[0mv1\u001b[0m\u001b[1;33m,\u001b[0m \u001b[1;34m'.3f'\u001b[0m\u001b[1;33m)\u001b[0m\u001b[1;33m\u001b[0m\u001b[1;33m\u001b[0m\u001b[0m\n\u001b[0m",
      "\u001b[1;31mTypeError\u001b[0m: unsupported format string passed to Vector2d.__format__"
     ]
    }
   ],
   "source": [
    "format(v1, '.3f')"
   ]
  },
  {
   "cell_type": "code",
   "execution_count": 31,
   "id": "d27be15c",
   "metadata": {},
   "outputs": [],
   "source": [
    "class Vector2d:\n",
    "    typecode = 'd'\n",
    "\n",
    "    def __init__(self, x, y):\n",
    "        self.x = float(x)\n",
    "        self.y = float(y)\n",
    "\n",
    "    def __iter__(self):\n",
    "        return (i for i in (self.x, self.y))\n",
    "\n",
    "    def __repr__(self):\n",
    "        class_name = type(self).__name__\n",
    "        return '{}({!r}, {!r})'.format(class_name, *self)\n",
    "\n",
    "    def __str__(self):\n",
    "        return str(tuple(self))\n",
    "\n",
    "    def __bytes__(self):\n",
    "        return (bytes([ord(self.typecode)]) +\n",
    "                bytes(array(self.typecode, self)))\n",
    "\n",
    "    def __eq__(self, other):\n",
    "        return tuple(self) == tuple(other)\n",
    "\n",
    "    def __abs__(self):\n",
    "        return math.hypot(self.x, self.y)\n",
    "\n",
    "    def __bool__(self):\n",
    "        return bool(abs(self))\n",
    "\n",
    "    def angle(self):\n",
    "        \"\"\"for use to generate polar coordinates\"\"\"\n",
    "        return math.atan2(self.y, self.x)\n",
    "\n",
    "    def __format__(self, fmt_spec=''):\n",
    "        if fmt_spec.endswith('p'):\n",
    "            \"\"\"use polar coordinates\"\"\"\n",
    "            fmt_spec = fmt_spec[:-1] # remove the 'p' suffix\n",
    "            coords = (abs(self), self.angle())\n",
    "            outer_fmt = '<{}, {}>' \n",
    "        else:\n",
    "            coords = self\n",
    "            outer_fmt = '({}, {})'\n",
    "        components = (format(c, fmt_spec) for c in coords) # generate iterable with components as formatted strings\n",
    "        return outer_fmt.format(*components)\n",
    "\n",
    "    @classmethod\n",
    "    def frombytes(cls, octets):\n",
    "        typecode = chr(octets[0])\n",
    "        memv = memoryview(octets[1:]).cast(typecode)\n",
    "        return cls(*memv)"
   ]
  },
  {
   "cell_type": "code",
   "execution_count": 32,
   "id": "850f356b",
   "metadata": {},
   "outputs": [
    {
     "data": {
      "text/plain": [
       "'<1.4142135623730951, 0.7853981633974483>'"
      ]
     },
     "execution_count": 32,
     "metadata": {},
     "output_type": "execute_result"
    }
   ],
   "source": [
    "format(Vector2d(1, 1), 'p')"
   ]
  },
  {
   "cell_type": "code",
   "execution_count": 33,
   "id": "436d1c3b",
   "metadata": {},
   "outputs": [
    {
     "data": {
      "text/plain": [
       "'<1.414e+00, 7.854e-01>'"
      ]
     },
     "execution_count": 33,
     "metadata": {},
     "output_type": "execute_result"
    }
   ],
   "source": [
    "format(Vector2d(1, 1), '.3ep')"
   ]
  },
  {
   "cell_type": "code",
   "execution_count": 34,
   "id": "613c2109",
   "metadata": {},
   "outputs": [
    {
     "data": {
      "text/plain": [
       "'<1.41421, 0.78540>'"
      ]
     },
     "execution_count": 34,
     "metadata": {},
     "output_type": "execute_result"
    }
   ],
   "source": [
    "format(Vector2d(1, 1), '0.5fp')"
   ]
  },
  {
   "cell_type": "markdown",
   "id": "337b5a3e",
   "metadata": {},
   "source": [
    "# A Hashable Vector2d"
   ]
  },
  {
   "cell_type": "code",
   "execution_count": 35,
   "id": "c0a4de19",
   "metadata": {},
   "outputs": [
    {
     "ename": "TypeError",
     "evalue": "unhashable type: 'Vector2d'",
     "output_type": "error",
     "traceback": [
      "\u001b[1;31m---------------------------------------------------------------------------\u001b[0m",
      "\u001b[1;31mTypeError\u001b[0m                                 Traceback (most recent call last)",
      "\u001b[1;32m<ipython-input-35-e769d6e59c8c>\u001b[0m in \u001b[0;36m<module>\u001b[1;34m\u001b[0m\n\u001b[1;32m----> 1\u001b[1;33m \u001b[0mhash\u001b[0m\u001b[1;33m(\u001b[0m\u001b[0mv1\u001b[0m\u001b[1;33m)\u001b[0m\u001b[1;33m\u001b[0m\u001b[1;33m\u001b[0m\u001b[0m\n\u001b[0m",
      "\u001b[1;31mTypeError\u001b[0m: unhashable type: 'Vector2d'"
     ]
    }
   ],
   "source": [
    "hash(v1)"
   ]
  },
  {
   "cell_type": "code",
   "execution_count": 36,
   "id": "dafed489",
   "metadata": {},
   "outputs": [
    {
     "ename": "TypeError",
     "evalue": "unhashable type: 'Vector2d'",
     "output_type": "error",
     "traceback": [
      "\u001b[1;31m---------------------------------------------------------------------------\u001b[0m",
      "\u001b[1;31mTypeError\u001b[0m                                 Traceback (most recent call last)",
      "\u001b[1;32m<ipython-input-36-bc2432ceb71f>\u001b[0m in \u001b[0;36m<module>\u001b[1;34m\u001b[0m\n\u001b[1;32m----> 1\u001b[1;33m \u001b[0mset\u001b[0m\u001b[1;33m(\u001b[0m\u001b[1;33m[\u001b[0m\u001b[0mv1\u001b[0m\u001b[1;33m]\u001b[0m\u001b[1;33m)\u001b[0m\u001b[1;33m\u001b[0m\u001b[1;33m\u001b[0m\u001b[0m\n\u001b[0m",
      "\u001b[1;31mTypeError\u001b[0m: unhashable type: 'Vector2d'"
     ]
    }
   ],
   "source": [
    "set([v1])"
   ]
  },
  {
   "cell_type": "markdown",
   "id": "3eb433a4",
   "metadata": {},
   "source": [
    "Making the components read-only:"
   ]
  },
  {
   "cell_type": "code",
   "execution_count": 37,
   "id": "57a68d10",
   "metadata": {},
   "outputs": [],
   "source": [
    "class Vector2d:\n",
    "    typecode = 'd'\n",
    "\n",
    "    def __init__(self, x, y):\n",
    "        self.__x = float(x) # make an attribute private using two underscores\n",
    "        self.__y = float(y)\n",
    "\n",
    "    @property     # marks the getter method of a property\n",
    "    def x(self):\n",
    "        return self.__x\n",
    "\n",
    "    @property\n",
    "    def y(self):\n",
    "        return self.__y\n",
    "\n",
    "    def __iter__(self):\n",
    "        return (i for i in (self.x, self.y))\n",
    "\n",
    "    def __repr__(self):\n",
    "        class_name = type(self).__name__\n",
    "        return '{}({!r}, {!r})'.format(class_name, *self)\n",
    "\n",
    "    def __str__(self):\n",
    "        return str(tuple(self))\n",
    "\n",
    "    def __bytes__(self):\n",
    "        return (bytes([ord(self.typecode)]) +\n",
    "                bytes(array(self.typecode, self)))\n",
    "\n",
    "    def __eq__(self, other):\n",
    "        return tuple(self) == tuple(other)\n",
    "\n",
    "    def __hash__(self):\n",
    "        return hash(self.x) ^ hash(self.y) # ^ operator to mix the hashes of the components\n",
    "\n",
    "    def __abs__(self):\n",
    "        return math.hypot(self.x, self.y)\n",
    "\n",
    "    def __bool__(self):\n",
    "        return bool(abs(self))\n",
    "\n",
    "    def angle(self):\n",
    "        return math.atan2(self.y, self.x)\n",
    "\n",
    "    def __format__(self, fmt_spec=''):\n",
    "        if fmt_spec.endswith('p'):\n",
    "            fmt_spec = fmt_spec[:-1]\n",
    "            coords = (abs(self), self.angle())\n",
    "            outer_fmt = '<{}, {}>'\n",
    "        else:\n",
    "            coords = self\n",
    "            outer_fmt = '({}, {})'\n",
    "        components = (format(c, fmt_spec) for c in coords)\n",
    "        return outer_fmt.format(*components)\n",
    "\n",
    "    @classmethod\n",
    "    def frombytes(cls, octets):\n",
    "        typecode = chr(octets[0])\n",
    "        memv = memoryview(octets[1:]).cast(typecode)\n",
    "        return cls(*memv)"
   ]
  },
  {
   "cell_type": "code",
   "execution_count": 38,
   "id": "d349147a",
   "metadata": {},
   "outputs": [
    {
     "data": {
      "text/plain": [
       "(7, 384307168202284039)"
      ]
     },
     "execution_count": 38,
     "metadata": {},
     "output_type": "execute_result"
    }
   ],
   "source": [
    "v1 = Vector2d(3, 4)\n",
    "v2 = Vector2d(3.1, 4.2)\n",
    "hash(v1), hash(v2)"
   ]
  },
  {
   "cell_type": "code",
   "execution_count": 39,
   "id": "3ba2a1fd",
   "metadata": {},
   "outputs": [
    {
     "data": {
      "text/plain": [
       "2"
      ]
     },
     "execution_count": 39,
     "metadata": {},
     "output_type": "execute_result"
    }
   ],
   "source": [
    "len(set([v1, v2]))"
   ]
  },
  {
   "cell_type": "code",
   "execution_count": 40,
   "id": "92f501b3",
   "metadata": {},
   "outputs": [
    {
     "data": {
      "text/plain": [
       "{Vector2d(3.0, 4.0), Vector2d(3.1, 4.2)}"
      ]
     },
     "execution_count": 40,
     "metadata": {},
     "output_type": "execute_result"
    }
   ],
   "source": [
    "set([v1, v2])"
   ]
  },
  {
   "cell_type": "markdown",
   "id": "2d025cd5",
   "metadata": {},
   "source": [
    "Implement with a sensible scaler numeric value:"
   ]
  },
  {
   "cell_type": "code",
   "execution_count": 41,
   "id": "9e517af5",
   "metadata": {},
   "outputs": [
    {
     "name": "stdout",
     "output_type": "stream",
     "text": [
      "3.0 4.0\n"
     ]
    }
   ],
   "source": [
    "print(v1.x, v1.y)"
   ]
  },
  {
   "cell_type": "markdown",
   "id": "01dce7c2",
   "metadata": {},
   "source": [
    "## Private and \"Protected\" Attributes in Python\n",
    "In Python, we use two leading underscores to signify a `private` attribute.\n",
    "\n",
    "### Name mangling:\n",
    "Python sotres the name in the instance `__dict__` prefixed with a leading underscore and the classname, i.e. _Classname__privateattribute."
   ]
  },
  {
   "cell_type": "code",
   "execution_count": 42,
   "id": "d8c8a275",
   "metadata": {},
   "outputs": [
    {
     "data": {
      "text/plain": [
       "{'_Vector2d__x': 3.0, '_Vector2d__y': 4.0}"
      ]
     },
     "execution_count": 42,
     "metadata": {},
     "output_type": "execute_result"
    }
   ],
   "source": [
    "v1.__dict__"
   ]
  },
  {
   "cell_type": "markdown",
   "id": "82c1ac7b",
   "metadata": {},
   "source": [
    "Attributes with a single _ prefix are called \"protected\" by some."
   ]
  },
  {
   "cell_type": "markdown",
   "id": "1cd1fbfb",
   "metadata": {},
   "source": [
    "## Saving Space with the __slots__ Class Attribute\n",
    "By default, Python stores instance attributes in a per-instance `dict`; which have a significant memory over head becuase of the underlying hash table used to provide fast access.\n",
    "\n",
    "The `__slots__` class attribute let the interpreter store the instance attributes in a tuple instead of a dict.\n",
    "\n",
    "#### Warning: `__slots__` attribute method is not inheritable\n",
    "Other issues:\n",
    "- Instances will only be able to have attributes listed in `__slots__`\n",
    "- Instances cannot be targets of weak references unless you include `__weakref__` in `__slots__`."
   ]
  },
  {
   "cell_type": "markdown",
   "id": "d0992608",
   "metadata": {},
   "source": [
    "    class Vector2d:\n",
    "        __slots__ = ('__x', '__y')\n",
    "\n",
    "        typecode = 'd'\n",
    "\n"
   ]
  },
  {
   "cell_type": "markdown",
   "id": "74999938",
   "metadata": {},
   "source": [
    "    time python3 mem_test.py vector2d_v3.py"
   ]
  },
  {
   "cell_type": "markdown",
   "id": "bf8b54b4",
   "metadata": {},
   "source": [
    "# Overriding Class Attributes\n",
    "Customizing an instance by setting the typecode attribute that was formerly inherited from the class:"
   ]
  },
  {
   "cell_type": "code",
   "execution_count": 43,
   "id": "2c4f4cc8",
   "metadata": {},
   "outputs": [
    {
     "data": {
      "text/plain": [
       "b'd\\x00\\x00\\x00\\x00\\x00\\x00\\x08@\\x00\\x00\\x00\\x00\\x00\\x00\\x10@'"
      ]
     },
     "execution_count": 43,
     "metadata": {},
     "output_type": "execute_result"
    }
   ],
   "source": [
    "dumpd = bytes(v1)\n",
    "dumpd"
   ]
  },
  {
   "cell_type": "code",
   "execution_count": 44,
   "id": "dfcc914d",
   "metadata": {},
   "outputs": [
    {
     "data": {
      "text/plain": [
       "17"
      ]
     },
     "execution_count": 44,
     "metadata": {},
     "output_type": "execute_result"
    }
   ],
   "source": [
    "len(dumpd)"
   ]
  },
  {
   "cell_type": "code",
   "execution_count": 45,
   "id": "c5a47d11",
   "metadata": {},
   "outputs": [
    {
     "data": {
      "text/plain": [
       "b'f\\x00\\x00@@\\x00\\x00\\x80@'"
      ]
     },
     "execution_count": 45,
     "metadata": {},
     "output_type": "execute_result"
    }
   ],
   "source": [
    "v1.typecode = 'f'\n",
    "\n",
    "dumpf = (bytes(v1))\n",
    "dumpf"
   ]
  },
  {
   "cell_type": "code",
   "execution_count": 46,
   "id": "00ef3ddb",
   "metadata": {},
   "outputs": [
    {
     "data": {
      "text/plain": [
       "9"
      ]
     },
     "execution_count": 46,
     "metadata": {},
     "output_type": "execute_result"
    }
   ],
   "source": [
    "len(dumpf)"
   ]
  },
  {
   "cell_type": "raw",
   "id": "1c78572f",
   "metadata": {},
   "source": [
    "len(dumpd)"
   ]
  },
  {
   "cell_type": "code",
   "execution_count": 47,
   "id": "c81359a6",
   "metadata": {},
   "outputs": [
    {
     "data": {
      "text/plain": [
       "'d'"
      ]
     },
     "execution_count": 47,
     "metadata": {},
     "output_type": "execute_result"
    }
   ],
   "source": [
    "Vector2d.typecode"
   ]
  },
  {
   "cell_type": "markdown",
   "id": "40fe58a5",
   "metadata": {},
   "source": [
    "Overriding the default typecode:"
   ]
  },
  {
   "cell_type": "code",
   "execution_count": 48,
   "id": "947ed8f5",
   "metadata": {},
   "outputs": [],
   "source": [
    "class ShortVector(Vector2d):\n",
    "    typecode = 'f'"
   ]
  },
  {
   "cell_type": "code",
   "execution_count": 49,
   "id": "8729c5ae",
   "metadata": {},
   "outputs": [
    {
     "data": {
      "text/plain": [
       "ShortVector(0.09090909090909091, 0.037037037037037035)"
      ]
     },
     "execution_count": 49,
     "metadata": {},
     "output_type": "execute_result"
    }
   ],
   "source": [
    "sv = ShortVector(1/11, 1/27)\n",
    "sv"
   ]
  },
  {
   "cell_type": "code",
   "execution_count": 50,
   "id": "7c2dc96e",
   "metadata": {},
   "outputs": [
    {
     "data": {
      "text/plain": [
       "9"
      ]
     },
     "execution_count": 50,
     "metadata": {},
     "output_type": "execute_result"
    }
   ],
   "source": [
    "len(bytes(sv))"
   ]
  },
  {
   "cell_type": "code",
   "execution_count": null,
   "id": "18a26c33",
   "metadata": {},
   "outputs": [],
   "source": []
  }
 ],
 "metadata": {
  "kernelspec": {
   "display_name": "Python 3",
   "language": "python",
   "name": "python3"
  },
  "language_info": {
   "codemirror_mode": {
    "name": "ipython",
    "version": 3
   },
   "file_extension": ".py",
   "mimetype": "text/x-python",
   "name": "python",
   "nbconvert_exporter": "python",
   "pygments_lexer": "ipython3",
   "version": "3.8.8"
  }
 },
 "nbformat": 4,
 "nbformat_minor": 5
}
