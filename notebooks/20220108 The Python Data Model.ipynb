{
 "cells": [
  {
   "cell_type": "markdown",
   "metadata": {},
   "source": [
    "###### References: \n",
    "- https://docs.python.org/3/reference/datamodel.html   \n",
    "- Fluent Python by Luciano Ramalho. Chapter  1: The Python  Data Model\n",
    "\n",
    "The Python data model is like a description of Python as a framework.  \n",
    "It makes use of certain structural guidelines to define its behaviour and usage.  \n",
    "It formalizes the  interfaces of the building  blocks of the language itself:-\n",
    "* sequences / collections\n",
    "* iterators\n",
    "* Functions and method invocation\n",
    "* classes\n",
    " * Attribute access\n",
    " * Operator overloading\n",
    "* string representation and formatting\n",
    "* context managers (i.e.  with blocks)\n"
   ]
  },
  {
   "cell_type": "markdown",
   "metadata": {},
   "source": [
    "# Special Methods\n",
    "Also known as dunder methods are meant to be called by the Python interpreter.\n",
    "\n",
    "More often than not, the special  method call is implicit."
   ]
  },
  {
   "cell_type": "code",
   "execution_count": 1,
   "metadata": {},
   "outputs": [
    {
     "data": {
      "text/plain": [
       "3"
      ]
     },
     "execution_count": 1,
     "metadata": {},
     "output_type": "execute_result"
    }
   ],
   "source": [
    "len([2022,1,8])"
   ]
  },
  {
   "cell_type": "code",
   "execution_count": 2,
   "metadata": {},
   "outputs": [
    {
     "name": "stdout",
     "output_type": "stream",
     "text": [
      "the for statement actually  invokes iter(eg)\n",
      "which in turn may call eg.__iter__() if available\n"
     ]
    }
   ],
   "source": [
    "eg = ['the for statement actually  invokes iter(eg)',\n",
    "      'which in turn may call eg.__iter__() if available']\n",
    "for item in eg:\n",
    "    print(item)"
   ]
  },
  {
   "cell_type": "markdown",
   "metadata": {},
   "source": [
    "The only special method that is frequently called by user code is `__init__`\n",
    "\n",
    "To invoke special methods, we use its related build-in function, e.g. len, iter, str, etc."
   ]
  },
  {
   "cell_type": "markdown",
   "metadata": {},
   "source": [
    "## A Pythonic Card Deck\n",
    "The following example demonstrates the power of implementing the two special methods, `__getitem__` and `__len__`\n",
    "### namedtuple"
   ]
  },
  {
   "cell_type": "code",
   "execution_count": 3,
   "metadata": {},
   "outputs": [],
   "source": [
    "import collections\n",
    "\n",
    "Card = collections.namedtuple('Card', ['rank', 'suit'])"
   ]
  },
  {
   "cell_type": "markdown",
   "metadata": {},
   "source": [
    "`namedtuple` is used to build classes of objects that are just bundles of attributes with no custom methods, like a database record."
   ]
  },
  {
   "cell_type": "code",
   "execution_count": 4,
   "metadata": {},
   "outputs": [
    {
     "data": {
      "text/plain": [
       "Card(rank='7', suit='diamonds')"
      ]
     },
     "execution_count": 4,
     "metadata": {},
     "output_type": "execute_result"
    }
   ],
   "source": [
    "beer_card = Card('7', 'diamonds')\n",
    "beer_card"
   ]
  },
  {
   "cell_type": "markdown",
   "metadata": {},
   "source": [
    "### A deck as a sequence of cards"
   ]
  },
  {
   "cell_type": "code",
   "execution_count": 5,
   "metadata": {},
   "outputs": [],
   "source": [
    "class FrenchDeck:\n",
    "    ranks = [str(n) for n in range(2,11)] + list('JQKA')\n",
    "    suits = 'Spades Diamonds Clubs Hearts'.split()\n",
    "    \n",
    "    def __init__(self):\n",
    "        self._cards = [Card(rank,suit) for suit in self.suits\n",
    "                                       for rank in self.ranks]\n",
    "    \n",
    "    def __len__(self):\n",
    "        return len(self._cards)\n",
    "    \n",
    "    def __getitem__(self, position):\n",
    "        return self._cards[position]"
   ]
  },
  {
   "cell_type": "code",
   "execution_count": 6,
   "metadata": {},
   "outputs": [
    {
     "data": {
      "text/plain": [
       "52"
      ]
     },
     "execution_count": 6,
     "metadata": {},
     "output_type": "execute_result"
    }
   ],
   "source": [
    "deck = FrenchDeck()\n",
    "len(deck)"
   ]
  },
  {
   "cell_type": "markdown",
   "metadata": {},
   "source": [
    "Returned by  `__getitem__`:"
   ]
  },
  {
   "cell_type": "code",
   "execution_count": 7,
   "metadata": {},
   "outputs": [
    {
     "data": {
      "text/plain": [
       "Card(rank='2', suit='Spades')"
      ]
     },
     "execution_count": 7,
     "metadata": {},
     "output_type": "execute_result"
    }
   ],
   "source": [
    "deck[0]"
   ]
  },
  {
   "cell_type": "code",
   "execution_count": 8,
   "metadata": {},
   "outputs": [
    {
     "data": {
      "text/plain": [
       "Card(rank='A', suit='Hearts')"
      ]
     },
     "execution_count": 8,
     "metadata": {},
     "output_type": "execute_result"
    }
   ],
   "source": [
    "deck[-1]"
   ]
  },
  {
   "cell_type": "markdown",
   "metadata": {},
   "source": [
    "Ramdomly select a card:"
   ]
  },
  {
   "cell_type": "code",
   "execution_count": 9,
   "metadata": {},
   "outputs": [
    {
     "data": {
      "text/plain": [
       "Card(rank='5', suit='Spades')"
      ]
     },
     "execution_count": 9,
     "metadata": {},
     "output_type": "execute_result"
    }
   ],
   "source": [
    "from random import choice\n",
    "choice(deck)"
   ]
  },
  {
   "cell_type": "markdown",
   "metadata": {},
   "source": [
    "Because the above `__getitem__` delegates to the `[]` operator, the deck automatically supports slicing."
   ]
  },
  {
   "cell_type": "code",
   "execution_count": 10,
   "metadata": {},
   "outputs": [
    {
     "data": {
      "text/plain": [
       "[Card(rank='2', suit='Spades'),\n",
       " Card(rank='3', suit='Spades'),\n",
       " Card(rank='4', suit='Spades')]"
      ]
     },
     "execution_count": 10,
     "metadata": {},
     "output_type": "execute_result"
    }
   ],
   "source": [
    "deck[:3]"
   ]
  },
  {
   "cell_type": "code",
   "execution_count": 11,
   "metadata": {},
   "outputs": [
    {
     "data": {
      "text/plain": [
       "[Card(rank='A', suit='Spades'),\n",
       " Card(rank='A', suit='Diamonds'),\n",
       " Card(rank='A', suit='Clubs'),\n",
       " Card(rank='A', suit='Hearts')]"
      ]
     },
     "execution_count": 11,
     "metadata": {},
     "output_type": "execute_result"
    }
   ],
   "source": [
    "deck[12::13]"
   ]
  },
  {
   "cell_type": "markdown",
   "metadata": {},
   "source": [
    "By implementing the `__getitem__` special method, the above deck is also iterable:"
   ]
  },
  {
   "cell_type": "code",
   "execution_count": 12,
   "metadata": {},
   "outputs": [
    {
     "name": "stdout",
     "output_type": "stream",
     "text": [
      "Card(rank='A', suit='Hearts')\n",
      "Card(rank='K', suit='Hearts')\n",
      "Card(rank='Q', suit='Hearts')\n",
      "Card(rank='J', suit='Hearts')\n",
      "Card(rank='10', suit='Hearts')\n",
      "Card(rank='9', suit='Hearts')\n",
      "Card(rank='8', suit='Hearts')\n",
      "Card(rank='7', suit='Hearts')\n",
      "Card(rank='6', suit='Hearts')\n",
      "Card(rank='5', suit='Hearts')\n",
      "Card(rank='4', suit='Hearts')\n",
      "Card(rank='3', suit='Hearts')\n",
      "Card(rank='2', suit='Hearts')\n",
      "Card(rank='A', suit='Clubs')\n",
      "Card(rank='K', suit='Clubs')\n",
      "Card(rank='Q', suit='Clubs')\n",
      "Card(rank='J', suit='Clubs')\n",
      "Card(rank='10', suit='Clubs')\n",
      "Card(rank='9', suit='Clubs')\n",
      "Card(rank='8', suit='Clubs')\n",
      "Card(rank='7', suit='Clubs')\n",
      "Card(rank='6', suit='Clubs')\n",
      "Card(rank='5', suit='Clubs')\n",
      "Card(rank='4', suit='Clubs')\n",
      "Card(rank='3', suit='Clubs')\n",
      "Card(rank='2', suit='Clubs')\n",
      "Card(rank='A', suit='Diamonds')\n",
      "Card(rank='K', suit='Diamonds')\n",
      "Card(rank='Q', suit='Diamonds')\n",
      "Card(rank='J', suit='Diamonds')\n",
      "Card(rank='10', suit='Diamonds')\n",
      "Card(rank='9', suit='Diamonds')\n",
      "Card(rank='8', suit='Diamonds')\n",
      "Card(rank='7', suit='Diamonds')\n",
      "Card(rank='6', suit='Diamonds')\n",
      "Card(rank='5', suit='Diamonds')\n",
      "Card(rank='4', suit='Diamonds')\n",
      "Card(rank='3', suit='Diamonds')\n",
      "Card(rank='2', suit='Diamonds')\n",
      "Card(rank='A', suit='Spades')\n",
      "Card(rank='K', suit='Spades')\n",
      "Card(rank='Q', suit='Spades')\n",
      "Card(rank='J', suit='Spades')\n",
      "Card(rank='10', suit='Spades')\n",
      "Card(rank='9', suit='Spades')\n",
      "Card(rank='8', suit='Spades')\n",
      "Card(rank='7', suit='Spades')\n",
      "Card(rank='6', suit='Spades')\n",
      "Card(rank='5', suit='Spades')\n",
      "Card(rank='4', suit='Spades')\n",
      "Card(rank='3', suit='Spades')\n",
      "Card(rank='2', suit='Spades')\n"
     ]
    }
   ],
   "source": [
    "for card in reversed(deck):\n",
    "    print(card)"
   ]
  },
  {
   "cell_type": "markdown",
   "metadata": {},
   "source": [
    "If a collection has no `__contains__` method the `in` operation does a sequential scan:"
   ]
  },
  {
   "cell_type": "code",
   "execution_count": 13,
   "metadata": {},
   "outputs": [
    {
     "data": {
      "text/plain": [
       "True"
      ]
     },
     "execution_count": 13,
     "metadata": {},
     "output_type": "execute_result"
    }
   ],
   "source": [
    "Card('Q', 'Hearts') in deck"
   ]
  },
  {
   "cell_type": "code",
   "execution_count": 14,
   "metadata": {},
   "outputs": [
    {
     "data": {
      "text/plain": [
       "False"
      ]
     },
     "execution_count": 14,
     "metadata": {},
     "output_type": "execute_result"
    }
   ],
   "source": [
    "Card('7', 'hearts') in deck"
   ]
  },
  {
   "cell_type": "markdown",
   "metadata": {},
   "source": [
    "## Sorting\n",
    "There are various ways to rank the cards in a deck."
   ]
  },
  {
   "cell_type": "code",
   "execution_count": 15,
   "metadata": {},
   "outputs": [
    {
     "name": "stdout",
     "output_type": "stream",
     "text": [
      "Card(rank='2', suit='Clubs')\n",
      "Card(rank='2', suit='Diamonds')\n",
      "Card(rank='2', suit='Hearts')\n",
      "Card(rank='2', suit='Spades')\n",
      "Card(rank='3', suit='Clubs')\n",
      "Card(rank='3', suit='Diamonds')\n",
      "Card(rank='3', suit='Hearts')\n",
      "Card(rank='3', suit='Spades')\n",
      "Card(rank='4', suit='Clubs')\n",
      "Card(rank='4', suit='Diamonds')\n",
      "Card(rank='4', suit='Hearts')\n",
      "Card(rank='4', suit='Spades')\n",
      "Card(rank='5', suit='Clubs')\n",
      "Card(rank='5', suit='Diamonds')\n",
      "Card(rank='5', suit='Hearts')\n",
      "Card(rank='5', suit='Spades')\n",
      "Card(rank='6', suit='Clubs')\n",
      "Card(rank='6', suit='Diamonds')\n",
      "Card(rank='6', suit='Hearts')\n",
      "Card(rank='6', suit='Spades')\n",
      "Card(rank='7', suit='Clubs')\n",
      "Card(rank='7', suit='Diamonds')\n",
      "Card(rank='7', suit='Hearts')\n",
      "Card(rank='7', suit='Spades')\n",
      "Card(rank='8', suit='Clubs')\n",
      "Card(rank='8', suit='Diamonds')\n",
      "Card(rank='8', suit='Hearts')\n",
      "Card(rank='8', suit='Spades')\n",
      "Card(rank='9', suit='Clubs')\n",
      "Card(rank='9', suit='Diamonds')\n",
      "Card(rank='9', suit='Hearts')\n",
      "Card(rank='9', suit='Spades')\n",
      "Card(rank='10', suit='Clubs')\n",
      "Card(rank='10', suit='Diamonds')\n",
      "Card(rank='10', suit='Hearts')\n",
      "Card(rank='10', suit='Spades')\n",
      "Card(rank='J', suit='Clubs')\n",
      "Card(rank='J', suit='Diamonds')\n",
      "Card(rank='J', suit='Hearts')\n",
      "Card(rank='J', suit='Spades')\n",
      "Card(rank='Q', suit='Clubs')\n",
      "Card(rank='Q', suit='Diamonds')\n",
      "Card(rank='Q', suit='Hearts')\n",
      "Card(rank='Q', suit='Spades')\n",
      "Card(rank='K', suit='Clubs')\n",
      "Card(rank='K', suit='Diamonds')\n",
      "Card(rank='K', suit='Hearts')\n",
      "Card(rank='K', suit='Spades')\n",
      "Card(rank='A', suit='Clubs')\n",
      "Card(rank='A', suit='Diamonds')\n",
      "Card(rank='A', suit='Hearts')\n",
      "Card(rank='A', suit='Spades')\n"
     ]
    }
   ],
   "source": [
    "suit_values = dict(Spades=3, Hearts=2, Diamonds=1, Clubs=0)\n",
    "\n",
    "def spades_high(card):\n",
    "    rank_value = FrenchDeck.ranks.index(card.rank)\n",
    "    return rank_value * len(suit_values) + suit_values[card.suit]\n",
    "\n",
    "for card in sorted(deck, key=spades_high):\n",
    "    print(card)"
   ]
  },
  {
   "cell_type": "markdown",
   "metadata": {},
   "source": [
    "By implementing the special methods `__len__` and `__getitem__`, the above FrenchDeck class behaves like a standards Python sequence, allowing it to benefit from core language features, such as iteration, slicing.\n",
    "\n",
    "The current implementation however cannot be shuffled, because it is immutable. It can be fixed by adding the `__setitem__` method."
   ]
  },
  {
   "cell_type": "markdown",
   "metadata": {},
   "source": [
    "## Vector\n",
    "### Emulating Numeric Types\n",
    "Several special methods allow user objects to respond to operators  suce as `+`.\n",
    "\n",
    "The following implements a class to represent two-dimensional vectors, that is Euclidean vectors like those used in math and physics."
   ]
  },
  {
   "cell_type": "code",
   "execution_count": 16,
   "metadata": {},
   "outputs": [],
   "source": [
    "from math import hypot\n",
    "\n",
    "class Vector:\n",
    "    def __init__(self,  x=0, y=0):\n",
    "        self.x = x\n",
    "        self.y = y\n",
    "        \n",
    "    def __repr__(self):\n",
    "        return 'Vector(%r, %r)' % (self.x, self.y)\n",
    "    \n",
    "    def __abs__(self):\n",
    "        return hypot(self.x, self.y)\n",
    "    \n",
    "    def __bool__(self):\n",
    "        return bool(abs(self))\n",
    "    \n",
    "    def __add__(self, other):\n",
    "        x = self.x + other.x\n",
    "        y = self.y + other.y\n",
    "        return Vector(x, y)\n",
    "    \n",
    "    def __mul__(self, scalar):\n",
    "        return Vector(self.x * scalar, self.y * scalar)"
   ]
  },
  {
   "cell_type": "code",
   "execution_count": 17,
   "metadata": {},
   "outputs": [
    {
     "data": {
      "text/plain": [
       "Vector(4, 5)"
      ]
     },
     "execution_count": 17,
     "metadata": {},
     "output_type": "execute_result"
    }
   ],
   "source": [
    "v1 = Vector(2,4)\n",
    "v2 = Vector(2,1)\n",
    "\n",
    "v1 + v2"
   ]
  },
  {
   "cell_type": "markdown",
   "metadata": {},
   "source": [
    "####  `math.hypot(*coordinates)`\n",
    "\n",
    "Return the Euclidean norm, `sqrt(sum(x**2 for x in coordinates))`. This is the length of the vector from the origin to the point given by the coordinates.\n",
    "\n",
    "For a two dimensional point `(x, y)`, this is equivalent to computing the hypotenuse of a right triangle using the Pythagorean theorem, `sqrt(x*x + y*y)`."
   ]
  },
  {
   "cell_type": "code",
   "execution_count": 18,
   "metadata": {},
   "outputs": [
    {
     "data": {
      "text/plain": [
       "5.0"
      ]
     },
     "execution_count": 18,
     "metadata": {},
     "output_type": "execute_result"
    }
   ],
   "source": [
    "v = Vector(3,4)\n",
    "abs(v)"
   ]
  },
  {
   "cell_type": "code",
   "execution_count": 19,
   "metadata": {},
   "outputs": [
    {
     "data": {
      "text/plain": [
       "Vector(9, 12)"
      ]
     },
     "execution_count": 19,
     "metadata": {},
     "output_type": "execute_result"
    }
   ],
   "source": [
    "v * 3"
   ]
  },
  {
   "cell_type": "code",
   "execution_count": 20,
   "metadata": {},
   "outputs": [
    {
     "data": {
      "text/plain": [
       "15.0"
      ]
     },
     "execution_count": 20,
     "metadata": {},
     "output_type": "execute_result"
    }
   ],
   "source": [
    "abs(v*3)"
   ]
  },
  {
   "cell_type": "markdown",
   "metadata": {},
   "source": [
    "### String Representation\n",
    "The string returned by `__repr__` should be unambiguous and, if possible, match the source code necessary to re-create the object being represented.\n",
    "\n",
    "In contrast, `__str__` called by `str()` should return a string suitable for disply to end users."
   ]
  },
  {
   "cell_type": "markdown",
   "metadata": {},
   "source": [
    "### Boolean Value of a Custom Type\n",
    "The above implementation of `__bool__` is conceptually simple: it returns a `False` if the magnitude of the bector is zero, `True` otherwise."
   ]
  },
  {
   "cell_type": "code",
   "execution_count": 21,
   "metadata": {},
   "outputs": [
    {
     "data": {
      "text/plain": [
       "False"
      ]
     },
     "execution_count": 21,
     "metadata": {},
     "output_type": "execute_result"
    }
   ],
   "source": [
    "bool(Vector(0,0))"
   ]
  },
  {
   "cell_type": "markdown",
   "metadata": {},
   "source": [
    "### `len` is not a method\n",
    "From The Zen of Python, \"practicality beats purity\", `len(x)` runs very fast because the length is simply read from a field in a C struct as opposed to calculated."
   ]
  },
  {
   "cell_type": "code",
   "execution_count": 22,
   "metadata": {},
   "outputs": [
    {
     "name": "stdout",
     "output_type": "stream",
     "text": [
      "The Zen of Python, by Tim Peters\n",
      "\n",
      "Beautiful is better than ugly.\n",
      "Explicit is better than implicit.\n",
      "Simple is better than complex.\n",
      "Complex is better than complicated.\n",
      "Flat is better than nested.\n",
      "Sparse is better than dense.\n",
      "Readability counts.\n",
      "Special cases aren't special enough to break the rules.\n",
      "Although practicality beats purity.\n",
      "Errors should never pass silently.\n",
      "Unless explicitly silenced.\n",
      "In the face of ambiguity, refuse the temptation to guess.\n",
      "There should be one-- and preferably only one --obvious way to do it.\n",
      "Although that way may not be obvious at first unless you're Dutch.\n",
      "Now is better than never.\n",
      "Although never is often better than *right* now.\n",
      "If the implementation is hard to explain, it's a bad idea.\n",
      "If the implementation is easy to explain, it may be a good idea.\n",
      "Namespaces are one honking great idea -- let's do more of those!\n"
     ]
    }
   ],
   "source": [
    "import this"
   ]
  },
  {
   "cell_type": "code",
   "execution_count": null,
   "metadata": {},
   "outputs": [],
   "source": []
  }
 ],
 "metadata": {
  "kernelspec": {
   "display_name": "Python 3",
   "language": "python",
   "name": "python3"
  },
  "language_info": {
   "codemirror_mode": {
    "name": "ipython",
    "version": 3
   },
   "file_extension": ".py",
   "mimetype": "text/x-python",
   "name": "python",
   "nbconvert_exporter": "python",
   "pygments_lexer": "ipython3",
   "version": "3.7.6"
  }
 },
 "nbformat": 4,
 "nbformat_minor": 2
}
